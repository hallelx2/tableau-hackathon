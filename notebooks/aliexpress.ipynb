{
 "cells": [
  {
   "cell_type": "markdown",
   "id": "db933f6a",
   "metadata": {},
   "source": [
    "### Scraping Products from Amazon using Selenium"
   ]
  },
  {
   "cell_type": "code",
   "execution_count": 45,
   "id": "2fff44cd",
   "metadata": {
    "tags": []
   },
   "outputs": [],
   "source": [
    "import selenium\n",
    "from selenium import webdriver\n",
    "from selenium.webdriver.common.keys import Keys\n",
    "from selenium.webdriver.common.by import By\n",
    "from selenium.webdriver.chrome.service import Service as ChromeService\n",
    "from webdriver_manager.chrome import ChromeDriverManager\n",
    "from time import sleep\n",
    "\n",
    "import re\n",
    "import pandas as pd\n",
    "import numpy as np\n",
    "import matplotlib.pyplot as plt\n",
    "import seaborn as sns"
   ]
  },
  {
   "cell_type": "code",
   "execution_count": 46,
   "id": "059b2147",
   "metadata": {
    "tags": []
   },
   "outputs": [],
   "source": [
    "# instantiate a browser object\n",
    "driver = webdriver.Chrome(service=ChromeService(ChromeDriverManager().install()))"
   ]
  },
  {
   "cell_type": "code",
   "execution_count": 155,
   "id": "de6876d0-4087-4189-9add-7c8886861764",
   "metadata": {
    "scrolled": true,
    "tags": []
   },
   "outputs": [
    {
     "data": {
      "image/png": "[encoded data removed]",
      "text/plain": [
       "<Figure size 640x480 with 1 Axes>"
      ]
     },
     "metadata": {},
     "output_type": "display_data"
    }
   ],
   "source": [
    "sns.boxenplot(data =df, y = 'Prices')\n",
    "plt.title('Boxplot Distribution of Prices')\n",
    "plt.xlabel('Price')\n",
    "plt.ylabel('Values')\n",
    "\n",
    "plt.show()"
   ]
  },
  {
   "cell_type": "code",
   "execution_count": 30,
   "id": "b8973169-6e61-4fba-8310-6d2ebe466e9d",
   "metadata": {
    "tags": []
   },
   "outputs": [],
   "source": [
    "def clean_alibaba(df):\n",
    "    # Remove 'NGN' and comma from price and convert to float\n",
    "    def clean_price(price):\n",
    "        cleaned_price = price.replace('NGN', '').replace(',', '')\n",
    "        return float(cleaned_price)\n",
    "\n",
    "    \n",
    "    # Clean shipping fee column\n",
    "    def clean_shipping_fee(shipping_fee):\n",
    "        if shipping_fee == 'Free shipping':\n",
    "            return 0.0\n",
    "        elif '+Shipping' in shipping_fee:\n",
    "            # Extracting the price from the string using regular expression\n",
    "            price_match = re.search(r'NGN([\\d,]+\\.\\d+)', shipping_fee)\n",
    "            if price_match:\n",
    "                return float(price_match.group(1).replace(',', ''))\n",
    "        else:\n",
    "            return None\n",
    "    \n",
    "    df[\"Shipping Prices\"] = df[\"Shipping Prices\"].apply(clean_shipping_fee)\n",
    "    df['Prices'] = df['Prices'].apply(clean_price)\n",
    "    \n",
    "    return df\n"
   ]
  },
  {
   "cell_type": "code",
   "execution_count": 31,
   "id": "1a946672-a5b3-4554-9d53-b7b93d61128d",
   "metadata": {
    "tags": []
   },
   "outputs": [],
   "source": [
    "import re\n",
    "import pandas as pd\n",
    "import selenium\n",
    "from selenium import webdriver\n",
    "from selenium.webdriver.common.by import By\n",
    "from selenium.webdriver.common.keys import Keys\n",
    "from selenium.webdriver.chrome.service import Service\n",
    "from webdriver_manager.chrome import ChromeDriverManager\n",
    "from time import sleep\n",
    "\n",
    "def scrape_aliexpress(search_term, num_pages=5):\n",
    "    \"\"\"Scrapes product information from AliExpress for the given search term.\n",
    "\n",
    "    Args:\n",
    "       search_term (str): The product to search for.\n",
    "       num_pages (int, optional): The number of pages to scrape. Defaults to 5.\n",
    "\n",
    "    Returns:\n",
    "       pd.DataFrame: A DataFrame containing the scraped product data.\n",
    "    \"\"\"\n",
    "\n",
    "    browser = webdriver.Chrome(service=ChromeService(ChromeDriverManager().install())) # Open a Chrome browser instance\n",
    "\n",
    "    website = 'https://www.aliexpress.com'\n",
    "    browser.get(website)  # Navigate to AliExpress\n",
    "    browser.maximize_window()  # Maximize the window for better visibility\n",
    "\n",
    "    # Find the search bar and button elements\n",
    "    input_search = browser.find_element(By.CLASS_NAME, 'search--keyword--15P08Ji')\n",
    "    search_button = browser.find_element(By.CLASS_NAME, 'search--submit--2VTbd-T')\n",
    "\n",
    "    # Perform the search\n",
    "    input_search.clear()\n",
    "    input_search.send_keys(search_term)\n",
    "    browser.execute_script(\"arguments[0].click();\", search_button)\n",
    "    # search_button.click()\n",
    "\n",
    "    # XPaths for product information elements\n",
    "    product_class = \"//h3[@class='multi--titleText--nXeOvyr']\"\n",
    "    price_class = \"//div[@class='multi--price-sale--U-S0jtj']\"\n",
    "    shipping_class = \"//span[@class='tag--text--1BSEXVh tag--textStyle--3dc7wLU multi--serviceStyle--1Z6RxQ4']\"\n",
    "    store_name = \"//a[@class='cards--storeLink--XkKUQFS']\"\n",
    "\n",
    "    product_descriptions = []\n",
    "    prices = []\n",
    "    shipping_prices = []\n",
    "    store_names = []\n",
    "\n",
    "    # Iterate through each page\n",
    "    for i in range(num_pages):\n",
    "       browser.execute_script('window.scrollTo(0, document.body.scrollHeight);')  # Scroll to bottom\n",
    "\n",
    "       # Find elements for product information on the current page\n",
    "       products = browser.find_elements(By.XPATH, product_class)\n",
    "       price = browser.find_elements(By.XPATH, price_class)\n",
    "       shipping = browser.find_elements(By.XPATH, shipping_class)\n",
    "       stores = browser.find_elements(By.XPATH, store_name)\n",
    "\n",
    "       # Extract product information from each product\n",
    "       for j in range(len(products)):\n",
    "           try:\n",
    "               product_descriptions.append(products[j].text)\n",
    "               prices.append(price[j].text)\n",
    "               shipping_prices.append(shipping[j].text)\n",
    "               store_names.append(stores[j].text)\n",
    "           except:\n",
    "               pass\n",
    "\n",
    "       # Navigate to the next page\n",
    "       next_page_input = browser.find_element(By.XPATH, \"//input[@aria-label='Page']\")\n",
    "       next_page_button = browser.find_element(By.CSS_SELECTOR, \"button.comet-pagination-options-quick-jumper-button\")\n",
    "\n",
    "       next_page_input.clear()\n",
    "       next_page_input.send_keys(str(i + 1))  # Send keys to navigate to the next page\n",
    "       next_page_button.click()\n",
    "\n",
    "       sleep(10)  # Wait for page to load\n",
    "\n",
    "    # Create and return the DataFrame\n",
    "    data_set = {\n",
    "       'Product Description': product_descriptions,\n",
    "       'Prices': prices,\n",
    "       'Shipping Prices': shipping_prices,\n",
    "       'Store Names': store_names\n",
    "    }\n",
    "    df = clean_alibaba(pd.DataFrame(data_set))\n",
    "    return df"
   ]
  },
  {
   "cell_type": "code",
   "execution_count": 32,
   "id": "0b3ac58e-1236-4745-8d87-e032ae381156",
   "metadata": {
    "tags": []
   },
   "outputs": [],
   "source": [
    "df = scrape_aliexpress('Iphone 12 Pro', 5)"
   ]
  },
  {
   "cell_type": "code",
   "execution_count": 34,
   "id": "783e17f7-7f86-43d6-b7f8-94fe7fb00084",
   "metadata": {
    "tags": []
   },
   "outputs": [
    {
     "data": {
      "text/html": [
       "<div>\n",
       "<style scoped>\n",
       "    .dataframe tbody tr th:only-of-type {\n",
       "        vertical-align: middle;\n",
       "    }\n",
       "\n",
       "    .dataframe tbody tr th {\n",
       "        vertical-align: top;\n",
       "    }\n",
       "\n",
       "    .dataframe thead th {\n",
       "        text-align: right;\n",
       "    }\n",
       "</style>\n",
       "<table border=\"1\" class=\"dataframe\">\n",
       "  <thead>\n",
       "    <tr style=\"text-align: right;\">\n",
       "      <th></th>\n",
       "      <th>Product Description</th>\n",
       "      <th>Prices</th>\n",
       "      <th>Shipping Prices</th>\n",
       "      <th>Store Names</th>\n",
       "    </tr>\n",
       "  </thead>\n",
       "  <tbody>\n",
       "    <tr>\n",
       "      <th>0</th>\n",
       "      <td>90% New Original iPhone 12 Pro 128GB 256GB 512...</td>\n",
       "      <td>649919.59</td>\n",
       "      <td>0.00</td>\n",
       "      <td>PhoneArena Online Store</td>\n",
       "    </tr>\n",
       "    <tr>\n",
       "      <th>1</th>\n",
       "      <td>Apple iPhone 12 Pro 6G RAM 128GB 256GB ROM Sma...</td>\n",
       "      <td>633054.29</td>\n",
       "      <td>16460.84</td>\n",
       "      <td>Rorgoo Store</td>\n",
       "    </tr>\n",
       "    <tr>\n",
       "      <th>2</th>\n",
       "      <td>Original unlocked iPhone 12 Pro Max 6.7\" 6G RA...</td>\n",
       "      <td>792793.16</td>\n",
       "      <td>37037.74</td>\n",
       "      <td>HongKong CINGO Technology Co., Ltd.</td>\n",
       "    </tr>\n",
       "    <tr>\n",
       "      <th>3</th>\n",
       "      <td>For Apple Original Magnetic Wireless Charger F...</td>\n",
       "      <td>16458.61</td>\n",
       "      <td>0.00</td>\n",
       "      <td>Shop1102542170 Store</td>\n",
       "    </tr>\n",
       "    <tr>\n",
       "      <th>4</th>\n",
       "      <td>iPhone 12 Pro 5G LTE 6.1'' 6GB&amp;128/256GB IOS C...</td>\n",
       "      <td>636166.38</td>\n",
       "      <td>37037.74</td>\n",
       "      <td>HongKong CINGO Technology Co., Ltd.</td>\n",
       "    </tr>\n",
       "  </tbody>\n",
       "</table>\n",
       "</div>"
      ],
      "text/plain": [
       "                                 Product Description     Prices  \\\n",
       "0  90% New Original iPhone 12 Pro 128GB 256GB 512...  649919.59   \n",
       "1  Apple iPhone 12 Pro 6G RAM 128GB 256GB ROM Sma...  633054.29   \n",
       "2  Original unlocked iPhone 12 Pro Max 6.7\" 6G RA...  792793.16   \n",
       "3  For Apple Original Magnetic Wireless Charger F...   16458.61   \n",
       "4  iPhone 12 Pro 5G LTE 6.1'' 6GB&128/256GB IOS C...  636166.38   \n",
       "\n",
       "   Shipping Prices                          Store Names  \n",
       "0             0.00              PhoneArena Online Store  \n",
       "1         16460.84                         Rorgoo Store  \n",
       "2         37037.74  HongKong CINGO Technology Co., Ltd.  \n",
       "3             0.00                 Shop1102542170 Store  \n",
       "4         37037.74  HongKong CINGO Technology Co., Ltd.  "
      ]
     },
     "execution_count": 34,
     "metadata": {},
     "output_type": "execute_result"
    }
   ],
   "source": [
    "df.head()"
   ]
  },
  {
   "cell_type": "code",
   "execution_count": 38,
   "id": "35ea79e1-9fb0-4f3d-a6c5-68055acfacf3",
   "metadata": {
    "tags": []
   },
   "outputs": [
    {
     "data": {
      "image/png": "[encoded data removed]",
      "text/plain": [
       "<Figure size 640x480 with 1 Axes>"
      ]
     },
     "metadata": {},
     "output_type": "display_data"
    }
   ],
   "source": [
    "sns.boxplot(data =df, y = 'Shipping Prices')\n",
    "plt.title('Boxplot Distribution of Prices')\n",
    "plt.xlabel('Price')\n",
    "plt.ylabel('Values')\n",
    "\n",
    "plt.show()"
   ]
  }
 ],
 "metadata": {
  "kernelspec": {
   "display_name": "web-scraping",
   "language": "python",
   "name": "web-scraping"
  },
  "language_info": {
   "codemirror_mode": {
    "name": "ipython",
    "version": 3
   },
   "file_extension": ".py",
   "mimetype": "text/x-python",
   "name": "python",
   "nbconvert_exporter": "python",
   "pygments_lexer": "ipython3",
   "version": "3.11.5"
  }
 },
 "nbformat": 4,
 "nbformat_minor": 5
}
