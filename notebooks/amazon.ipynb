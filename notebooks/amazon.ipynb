{
 "cells": [
  {
   "cell_type": "code",
   "execution_count": 1,
   "id": "38edd8c0-ba95-43a0-bcde-30cac522611b",
   "metadata": {
    "tags": []
   },
   "outputs": [],
   "source": [
    "from selenium import webdriver\n",
    "from selenium.webdriver.common.keys import Keys\n",
    "from selenium.webdriver.chrome.service import Service as ChromeService\n",
    "from webdriver_manager.chrome import ChromeDriverManager\n",
    "from selenium.webdriver.common.by import By\n",
    "from time import sleep\n",
    "\n",
    "import re\n",
    "import pandas as pd\n",
    "import numpy as np\n",
    "import matplotlib.pyplot as plt\n",
    "import seaborn as sns"
   ]
  },
  {
   "cell_type": "code",
   "execution_count": 24,
   "id": "925bbd93-0dd0-46e7-aed5-7d733d3aa78d",
   "metadata": {
    "tags": []
   },
   "outputs": [],
   "source": [
    "browser = webdriver.Chrome(service = ChromeService(ChromeDriverManager().install()))"
   ]
  },
  {
   "cell_type": "code",
   "execution_count": 25,
   "id": "f63da5d3-7b94-4f81-bc66-ed502ab92c93",
   "metadata": {
    "tags": []
   },
   "outputs": [],
   "source": [
    "browser.get('https://www.amazon.com')"
   ]
  },
  {
   "cell_type": "code",
   "execution_count": 2,
   "id": "c9dee9ff-4136-45b4-b087-df28680aa268",
   "metadata": {
    "tags": []
   },
   "outputs": [],
   "source": [
    "def build_amazon_search_url(search_param):\n",
    "    base_url = \"https://www.amazon.com/s\"\n",
    "    search_query = {\"k\": search_param}\n",
    "    url = base_url + \"?\" + \"&\".join([f\"{key}={value}\" for key, value in search_query.items()])\n",
    "    return url"
   ]
  },
  {
   "cell_type": "code",
   "execution_count": 20,
   "id": "11eed078-d57e-405b-b244-870cddb70955",
   "metadata": {
    "tags": []
   },
   "outputs": [
    {
     "name": "stdout",
     "output_type": "stream",
     "text": [
      "https://www.amazon.com/s?k=iphone 12\n"
     ]
    }
   ],
   "source": [
    "print(build_amazon_search_url('iphone 12'))"
   ]
  },
  {
   "cell_type": "code",
   "execution_count": 3,
   "id": "0e8cb0d2-e8fe-4893-ab03-d4d1a007ed51",
   "metadata": {
    "tags": []
   },
   "outputs": [],
   "source": [
    "def build_amazon_page_search(search_param, page=1):\n",
    "    base_url = \"https://www.amazon.com/s\"\n",
    "    search_query = {\"k\": search_param.replace(\" \", \"+\"), \"page\": page}\n",
    "    url = base_url + \"?\" + \"&\".join([f\"{key}={value}\" for key, value in search_query.items()])\n",
    "    return url"
   ]
  },
  {
   "cell_type": "code",
   "execution_count": 10,
   "id": "9fd25e1a-fc5c-47b5-a4c9-18536feea877",
   "metadata": {
    "tags": []
   },
   "outputs": [],
   "source": [
    "def create_data_set(product_desc: list, prices: list) -> dict:\n",
    "    \"\"\"\n",
    "    Creates a dictionary named 'data_set' containing product descriptions and prices as separate lists,\n",
    "    ensuring both lists have the same size.\n",
    "\n",
    "    Args:\n",
    "        product_desc (list): A list of product descriptions.\n",
    "        prices (list): A list of corresponding prices.\n",
    "\n",
    "    Returns:\n",
    "        dict: A dictionary named 'data_set' with keys 'Product Description' and 'Prices'. The shorter\n",
    "              list is used to determine the final dataset size.\n",
    "\n",
    "    \"\"\"\n",
    "\n",
    "    \n",
    "    # Ensure both lists have the same size by selecting the minimum length\n",
    "    data_set_size = min(len(product_desc), len(prices))\n",
    "\n",
    "    # Select elements from the longer list up to the data_set_size\n",
    "    product_desc_subset = product_desc[:data_set_size]\n",
    "    prices_subset = prices[:data_set_size]\n",
    "\n",
    "    data_set = {\n",
    "        'Product Description': product_desc_subset,\n",
    "        'Prices': prices_subset\n",
    "    }\n",
    "\n",
    "    return data_set"
   ]
  },
  {
   "cell_type": "code",
   "execution_count": 11,
   "id": "ac64916f-3215-46fa-afc5-d99e923cb137",
   "metadata": {
    "tags": []
   },
   "outputs": [],
   "source": [
    "def scrape_amazon(search_param, number_of_pages=5):\n",
    "    \n",
    "    # instantiate a browser object\n",
    "    browser = webdriver.Chrome(service = ChromeService(ChromeDriverManager().install()))\n",
    "    \n",
    "    # Build a URL for search and get the page\n",
    "    website = build_amazon_search_url(search_param)\n",
    "    browser.get(website)\n",
    "    \n",
    "    # Identifiers for the objects to be Scraped\n",
    "    prod_class = \"span.a-color-base.a-text-normal\"\n",
    "    price_class = \"span.a-price-whole\"\n",
    "    rating_class = \"a-size-mini\"\n",
    "    \n",
    "    \n",
    "    # Instantiate the items to be scraped\n",
    "    product_desc = []\n",
    "    prices = []\n",
    "    ratings = []\n",
    "    \n",
    "    # Scrape per page\n",
    "    for i in range(number_of_pages):\n",
    "        i+=1\n",
    "        \n",
    "        browser.execute_script('window.scrollTo(0, document.body.scrollHeight);')  # Scroll to bottom\n",
    "\n",
    "        # Find elements for product information on the current page\n",
    "        products = browser.find_elements(By.CSS_SELECTOR, prod_class)\n",
    "        price = browser.find_elements(By.CSS_SELECTOR, price_class)\n",
    "        # rating = browser.find_elements(By.CSS_SELECTOR, rating_class)\n",
    "        \n",
    "        # Extract product information from each product\n",
    "        for j in range(len(products)):\n",
    "           try:\n",
    "               product_desc.append(products[j].text)\n",
    "               prices.append(price[j].text)\n",
    "               # ratings.append(rating[j].text)\n",
    "           except:\n",
    "               # Handle potential errors during extraction\n",
    "               pass\n",
    "        \n",
    "        # Navigate to the next page\n",
    "        browser.get(build_amazon_page_search(website, i))\n",
    "        sleep(10)\n",
    "    \n",
    "    \n",
    "    # Create and return the DataFrame\n",
    "    data_set = create_data_set(product_desc, prices)\n",
    "    \n",
    "    df = pd.DataFrame(data_set)\n",
    "    return df"
   ]
  },
  {
   "cell_type": "code",
   "execution_count": 12,
   "id": "a8e77a74-eeac-4d63-8d9e-5381706ef70b",
   "metadata": {
    "tags": []
   },
   "outputs": [
    {
     "data": {
      "text/html": [
       "<div>\n",
       "<style scoped>\n",
       "    .dataframe tbody tr th:only-of-type {\n",
       "        vertical-align: middle;\n",
       "    }\n",
       "\n",
       "    .dataframe tbody tr th {\n",
       "        vertical-align: top;\n",
       "    }\n",
       "\n",
       "    .dataframe thead th {\n",
       "        text-align: right;\n",
       "    }\n",
       "</style>\n",
       "<table border=\"1\" class=\"dataframe\">\n",
       "  <thead>\n",
       "    <tr style=\"text-align: right;\">\n",
       "      <th></th>\n",
       "      <th>Product Description</th>\n",
       "      <th>Prices</th>\n",
       "    </tr>\n",
       "  </thead>\n",
       "  <tbody>\n",
       "    <tr>\n",
       "      <th>0</th>\n",
       "      <td>iPhone 15 Silicone Case with MagSafe - Light Pink</td>\n",
       "      <td>49</td>\n",
       "    </tr>\n",
       "    <tr>\n",
       "      <th>1</th>\n",
       "      <td>iPhone 15 Clear Case with MagSafe</td>\n",
       "      <td>49</td>\n",
       "    </tr>\n",
       "    <tr>\n",
       "      <th>2</th>\n",
       "      <td>Kryptall 14 Pro Unlocked Cellular Phone, Purpl...</td>\n",
       "      <td>4,799</td>\n",
       "    </tr>\n",
       "    <tr>\n",
       "      <th>3</th>\n",
       "      <td>Galaxy S24+ Plus Cell Phone, 256GB AI Smartpho...</td>\n",
       "      <td>999</td>\n",
       "    </tr>\n",
       "    <tr>\n",
       "      <th>4</th>\n",
       "      <td>Open, 16GB RAM+512GB, Dual-SIM, Emerald Dusk, ...</td>\n",
       "      <td>1,499</td>\n",
       "    </tr>\n",
       "  </tbody>\n",
       "</table>\n",
       "</div>"
      ],
      "text/plain": [
       "                                 Product Description Prices\n",
       "0  iPhone 15 Silicone Case with MagSafe - Light Pink     49\n",
       "1                  iPhone 15 Clear Case with MagSafe     49\n",
       "2  Kryptall 14 Pro Unlocked Cellular Phone, Purpl...  4,799\n",
       "3  Galaxy S24+ Plus Cell Phone, 256GB AI Smartpho...    999\n",
       "4  Open, 16GB RAM+512GB, Dual-SIM, Emerald Dusk, ...  1,499"
      ]
     },
     "execution_count": 12,
     "metadata": {},
     "output_type": "execute_result"
    }
   ],
   "source": [
    "data = scrape_amazon('Iphone 15', number_of_pages=3)\n",
    "data.head()"
   ]
  }
 ],
 "metadata": {
  "kernelspec": {
   "display_name": "web-scraping",
   "language": "python",
   "name": "web-scraping"
  },
  "language_info": {
   "codemirror_mode": {
    "name": "ipython",
    "version": 3
   },
   "file_extension": ".py",
   "mimetype": "text/x-python",
   "name": "python",
   "nbconvert_exporter": "python",
   "pygments_lexer": "ipython3",
   "version": "3.11.5"
  }
 },
 "nbformat": 4,
 "nbformat_minor": 5
}
