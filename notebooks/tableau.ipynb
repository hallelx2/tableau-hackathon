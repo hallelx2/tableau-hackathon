{
 "cells": [
  {
   "cell_type": "code",
   "execution_count": 2,
   "id": "622078d7",
   "metadata": {},
   "outputs": [],
   "source": [
    "from pathlib import Path\n",
    "import tableauserverclient as TSC\n",
    "from tableauhyperapi import HyperProcess, Telemetry, \\\n",
    "    Connection, CreateMode, \\\n",
    "    NOT_NULLABLE, NULLABLE, SqlType, TableDefinition, \\\n",
    "    Inserter, \\\n",
    "    escape_name, escape_string_literal, \\\n",
    "    TableName, \\\n",
    "    HyperException"
   ]
  }
 ],
 "metadata": {
  "kernelspec": {
   "display_name": "web-scraping",
   "language": "python",
   "name": "web-scraping"
  },
  "language_info": {
   "codemirror_mode": {
    "name": "ipython",
    "version": 3
   },
   "file_extension": ".py",
   "mimetype": "text/x-python",
   "name": "python",
   "nbconvert_exporter": "python",
   "pygments_lexer": "ipython3",
   "version": "3.11.5"
  }
 },
 "nbformat": 4,
 "nbformat_minor": 5
}
